{
 "cells": [
  {
   "cell_type": "markdown",
   "metadata": {},
   "source": [
    "\n",
    "# Before diving in:\n",
    "* This is not a comprehensive list of concepts for Python programming\n",
    "* All of this information is fairly unique to Python\n",
    "* Python is different from many other programming languages, but its differences make it great to learn for new programmers\n",
    "* These concepts can still be built upon for advanced techniques, and once understood can make it easier to understand other languages\n",
    "* The information in this notebook is only a high-level overview of some of the building blocks of programming"
   ]
  },
  {
   "cell_type": "markdown",
   "metadata": {},
   "source": [
    "# Numeric data types"
   ]
  },
  {
   "cell_type": "markdown",
   "metadata": {},
   "source": [
    "### Boolean\n",
    "* True or False\n",
    "* Also an English representation of 1 or 0 respectively\n",
    "* Typically used as the result of a comparison or equivalency"
   ]
  },
  {
   "cell_type": "code",
   "execution_count": null,
   "metadata": {},
   "outputs": [],
   "source": [
    "# Examples\n",
    "True\n",
    "False"
   ]
  },
  {
   "cell_type": "markdown",
   "metadata": {},
   "source": [
    "### Integer (int)\n",
    "* Most common numeric type used by python\n",
    "* In python, there is no maximum integer value, but in most other programming lanauages there is."
   ]
  },
  {
   "cell_type": "code",
   "execution_count": null,
   "metadata": {},
   "outputs": [],
   "source": [
    "1234\n",
    "987654321\n",
    "1"
   ]
  },
  {
   "cell_type": "markdown",
   "metadata": {},
   "source": [
    "### Floating point (float)\n",
    "* Numbers that are not whole and include a decimal point\n",
    "* A little difficult to use because of the nature of binary numbers"
   ]
  },
  {
   "cell_type": "code",
   "execution_count": null,
   "metadata": {},
   "outputs": [],
   "source": [
    "1.1\n",
    "0.333333333"
   ]
  },
  {
   "cell_type": "markdown",
   "metadata": {},
   "source": [
    "### Numeric operators"
   ]
  },
  {
   "cell_type": "code",
   "execution_count": 38,
   "metadata": {},
   "outputs": [
    {
     "data": {
      "text/plain": [
       "52"
      ]
     },
     "execution_count": 38,
     "metadata": {},
     "output_type": "execute_result"
    }
   ],
   "source": [
    "# Multiplication\n",
    "13*4"
   ]
  },
  {
   "cell_type": "code",
   "execution_count": 39,
   "metadata": {},
   "outputs": [
    {
     "data": {
      "text/plain": [
       "28561"
      ]
     },
     "execution_count": 39,
     "metadata": {},
     "output_type": "execute_result"
    }
   ],
   "source": [
    "# Exponentiation\n",
    "# Applies the second number to the first as an exponent\n",
    "13**4"
   ]
  },
  {
   "cell_type": "code",
   "execution_count": 37,
   "metadata": {},
   "outputs": [
    {
     "data": {
      "text/plain": [
       "4.333333333333333"
      ]
     },
     "execution_count": 37,
     "metadata": {},
     "output_type": "execute_result"
    }
   ],
   "source": [
    "# Floating point division\n",
    "13/3"
   ]
  },
  {
   "cell_type": "code",
   "execution_count": 36,
   "metadata": {},
   "outputs": [
    {
     "data": {
      "text/plain": [
       "4"
      ]
     },
     "execution_count": 36,
     "metadata": {},
     "output_type": "execute_result"
    }
   ],
   "source": [
    "# Integer division\n",
    "# Floors the result, meaning it forgets about any remainder or floating point and returns whole numbers\n",
    "13//3"
   ]
  },
  {
   "cell_type": "code",
   "execution_count": 40,
   "metadata": {},
   "outputs": [
    {
     "data": {
      "text/plain": [
       "1"
      ]
     },
     "execution_count": 40,
     "metadata": {},
     "output_type": "execute_result"
    }
   ],
   "source": [
    "# Modulus\n",
    "# Returns the remainder of division\n",
    "# If the first number is smaller than the second, then the first number is returned\n",
    "13%4"
   ]
  },
  {
   "cell_type": "markdown",
   "metadata": {},
   "source": [
    "# Complex data types\n",
    "* Complex data types are collections of elements whose value is one of the fundamental types or another complex data type"
   ]
  },
  {
   "cell_type": "markdown",
   "metadata": {},
   "source": [
    "### List\n",
    "* An ordered sequence of objects (think 'variables')\n",
    "* A list is an iterable, which means that you can conduct operations on each one of its individual elements\n",
    "    * ^Will reference this more in LOOPS^\n",
    "* Indicated by square brackets [ ]\n",
    "* Sequence data types always start with index=0 <<< VERY IMPORTANT\n",
    "    * This means that in order to reference the first item in the list, you must specify index 0 -> list[0]\n",
    "* In python, other complex data types are built on the list, including strings\n",
    "* Have many built-in functions that you can reference including:\n",
    "    * sort()\n",
    "    * reverse()\n",
    "    * pop()\n",
    "    * append()"
   ]
  },
  {
   "cell_type": "code",
   "execution_count": null,
   "metadata": {},
   "outputs": [],
   "source": [
    "# Examples\n",
    "[1, 1, 1, 1, 1, 1, 1, 1]\n",
    "['index0', 'index1', 'index2', 'index3']\n",
    "[1, 2, 4, 5, 6, 8, 9, 4, 6, 78]\n",
    "[100, True, 'lists','can', 'contain', 'different', 'datatypes']"
   ]
  },
  {
   "cell_type": "code",
   "execution_count": 1,
   "metadata": {},
   "outputs": [
    {
     "name": "stdout",
     "output_type": "stream",
     "text": [
      "['alphabet', 'egg', 'queen', 'zebra']\n"
     ]
    }
   ],
   "source": [
    "# Sort a list\n",
    "list1 = ['egg', 'zebra', 'alphabet', 'queen']\n",
    "list1.sort()\n",
    "print(list1)"
   ]
  },
  {
   "cell_type": "code",
   "execution_count": 2,
   "metadata": {},
   "outputs": [
    {
     "name": "stdout",
     "output_type": "stream",
     "text": [
      "[1, 2, 3, 4, 5, 6, 7, 8, 9, 10]\n"
     ]
    }
   ],
   "source": [
    "# Reverse a list\n",
    "list1 = [10, 9, 8, 7, 6, 5, 4, 3, 2, 1]\n",
    "list1.reverse()\n",
    "print(list1)"
   ]
  },
  {
   "cell_type": "code",
   "execution_count": 58,
   "metadata": {},
   "outputs": [
    {
     "name": "stdout",
     "output_type": "stream",
     "text": [
      "['alphabet', 'dog', 'queen']\n",
      "['alphabet', 'queen']\n"
     ]
    }
   ],
   "source": [
    "# Pop removes an element in the list at the given index\n",
    "# If no index is given, it removes the last item\n",
    "list1 = ['alphabet', 'dog', 'queen', 'zebra']\n",
    "list1.pop()\n",
    "print(list1)\n",
    "list1.pop(1)\n",
    "print(list1)"
   ]
  },
  {
   "cell_type": "code",
   "execution_count": 59,
   "metadata": {},
   "outputs": [
    {
     "name": "stdout",
     "output_type": "stream",
     "text": [
      "queen\n",
      "['alphabet']\n"
     ]
    }
   ],
   "source": [
    "# Pop also returns the item that it removes\n",
    "# You can save this item in a variable\n",
    "removed_item = list1.pop(1)\n",
    "print(removed_item)\n",
    "print(list1)"
   ]
  },
  {
   "cell_type": "code",
   "execution_count": 61,
   "metadata": {},
   "outputs": [
    {
     "name": "stdout",
     "output_type": "stream",
     "text": [
      "['alphabet', 'dog', 'queen', 'zebra', 'word']\n"
     ]
    }
   ],
   "source": [
    "# Append\n",
    "# Operation to add an item to the end of a list\n",
    "list1 = ['alphabet', 'dog', 'queen', 'zebra']\n",
    "list1.append('word')\n",
    "print(list1)"
   ]
  },
  {
   "cell_type": "code",
   "execution_count": 62,
   "metadata": {},
   "outputs": [
    {
     "data": {
      "text/plain": [
       "['alphabet', 'dog', 'queen', 'zebra', 'this', 'is', 'a', 'different', 'list']"
      ]
     },
     "execution_count": 62,
     "metadata": {},
     "output_type": "execute_result"
    }
   ],
   "source": [
    "# Concatenation\n",
    "# Multiple lists can be combined by using the concatenation operator '+'\n",
    "['alphabet', 'dog', 'queen', 'zebra'] + ['this', 'is', 'a', 'different', 'list']"
   ]
  },
  {
   "cell_type": "code",
   "execution_count": 67,
   "metadata": {},
   "outputs": [
    {
     "data": {
      "text/plain": [
       "[[1, 2, 3], [4, 5, 6], [7, 8, 9]]"
      ]
     },
     "execution_count": 67,
     "metadata": {},
     "output_type": "execute_result"
    }
   ],
   "source": [
    "# Lists can even contain other lists\n",
    "# This is known as a 2D list\n",
    "[[1, 2, 3],[4, 5, 6], [7, 8, 9]]"
   ]
  },
  {
   "cell_type": "code",
   "execution_count": 31,
   "metadata": {},
   "outputs": [
    {
     "data": {
      "text/plain": [
       "[1, 2, 999, 4, 5]"
      ]
     },
     "execution_count": 31,
     "metadata": {},
     "output_type": "execute_result"
    }
   ],
   "source": [
    "# Lists support assignment for elements in the index\n",
    "# Reference the index of the list and use the assignment operator '=' to set a new value\n",
    "list1 = [1, 2, 3, 4, 5]\n",
    "list1[2] = 999\n",
    "list1"
   ]
  },
  {
   "cell_type": "code",
   "execution_count": 32,
   "metadata": {},
   "outputs": [
    {
     "name": "stdout",
     "output_type": "stream",
     "text": [
      "[4, 5, 6, 7, 8]\n",
      "['d', 'e', 'f', 'g', 'h']\n"
     ]
    }
   ],
   "source": [
    "# Slicing\n",
    "# A portion of the list can be returned using indexing and ':'\n",
    "\n",
    "list1 = [1, 2, 3, 4, 5, 6, 7, 8, 9, 10, 11, 12, 13, 14, 15, 16, 17]\n",
    "list2 = ['a', 'b', 'c', 'd', 'e', 'f', 'g', 'h', 'i', 'j']\n",
    "\n",
    "\n",
    "# Place 2 indexes in square brackets separated by ':'\n",
    "# The first index is where you wish to start, inclusive\n",
    "# The second index is the the place after you wish to end your new list, exclusive\n",
    "print(list1[3:8])\n",
    "print(list2[3:8])"
   ]
  },
  {
   "cell_type": "markdown",
   "metadata": {},
   "source": [
    "### String\n",
    "* A sequence of characters including alphanumeric and punctuation\n",
    "* A string is indicated by either single ('') or double (\"\") quotes in python\n",
    "* A string also has many built-in operations. Several of which are:\n",
    "    * splitting\n",
    "    * concatenating\n",
    "    * indexing"
   ]
  },
  {
   "cell_type": "code",
   "execution_count": null,
   "metadata": {},
   "outputs": [],
   "source": [
    "# Examples\n",
    "\"This is a string.\"\n",
    "'This is also a string.'\n",
    "\"1234\""
   ]
  },
  {
   "cell_type": "code",
   "execution_count": 1,
   "metadata": {},
   "outputs": [
    {
     "data": {
      "text/plain": [
       "['this', 'is', 'a', 'string']"
      ]
     },
     "execution_count": 1,
     "metadata": {},
     "output_type": "execute_result"
    }
   ],
   "source": [
    "# Splitting\n",
    "# split() divides the function based on a given character\n",
    "# If no character is given as an argument, space (' ') is used as a delimiter\n",
    "# Returns a list of strings\n",
    "\"this is a string\".split()"
   ]
  },
  {
   "cell_type": "code",
   "execution_count": 34,
   "metadata": {},
   "outputs": [
    {
     "data": {
      "text/plain": [
       "'this is a string'"
      ]
     },
     "execution_count": 34,
     "metadata": {},
     "output_type": "execute_result"
    }
   ],
   "source": [
    "# Splitting sort of has a counterpart operation called join()\n",
    "# A delimiter is provided and calls join()\n",
    "# join() takes a list as an argument and joins all elements in the list into a string separated by the delimiter\n",
    "' '.join(['this', 'is', 'a', 'string'])"
   ]
  },
  {
   "cell_type": "code",
   "execution_count": 4,
   "metadata": {},
   "outputs": [
    {
     "data": {
      "text/plain": [
       "'this is a string'"
      ]
     },
     "execution_count": 4,
     "metadata": {},
     "output_type": "execute_result"
    }
   ],
   "source": [
    "# Concatenating\n",
    "# Accomplished by applying the '+' operator to two or more strings\n",
    "\"this is\" + \" a string\""
   ]
  },
  {
   "cell_type": "code",
   "execution_count": 3,
   "metadata": {},
   "outputs": [
    {
     "data": {
      "text/plain": [
       "'s'"
      ]
     },
     "execution_count": 3,
     "metadata": {},
     "output_type": "execute_result"
    }
   ],
   "source": [
    "# Indexing\n",
    "# Index 3 in this string is an 's'\n",
    "# Access an index in a string by using square brackets at the end of the string and specifying an index\n",
    "#0123456789\n",
    "\"this is a string\"[3]"
   ]
  },
  {
   "cell_type": "code",
   "execution_count": 8,
   "metadata": {},
   "outputs": [
    {
     "name": "stdout",
     "output_type": "stream",
     "text": [
      "The type of \"s\" is: <class 'str'>\n"
     ]
    }
   ],
   "source": [
    "# Even a single character is a string, so a string can be thought of as a collection of strings\n",
    "print(f'The data type of \"s\" is: {type(\"s\")}')"
   ]
  },
  {
   "cell_type": "markdown",
   "metadata": {},
   "source": [
    "### Set\n",
    "* An unordered collection of elements.\n",
    "* Each element in a set must be unique, so there can be no duplicates.\n",
    "* Indicated by curly braces { }"
   ]
  },
  {
   "cell_type": "code",
   "execution_count": 3,
   "metadata": {},
   "outputs": [
    {
     "data": {
      "text/plain": [
       "{'be', 'each', 'element', 'must', 'unique'}"
      ]
     },
     "execution_count": 3,
     "metadata": {},
     "output_type": "execute_result"
    }
   ],
   "source": [
    "{'each', 'each', 'element', 'element', 'must', 'must', 'be', 'be', 'unique', 'unique'}"
   ]
  },
  {
   "cell_type": "code",
   "execution_count": 11,
   "metadata": {},
   "outputs": [
    {
     "data": {
      "text/plain": [
       "{'alphabet', 'cucumber', 'monkey', 'train'}"
      ]
     },
     "execution_count": 11,
     "metadata": {},
     "output_type": "execute_result"
    }
   ],
   "source": [
    "# Adding to a set\n",
    "set1 = {'alphabet', 'monkey', 'train'}\n",
    "set1.add('cucumber')\n",
    "set1"
   ]
  },
  {
   "cell_type": "code",
   "execution_count": 12,
   "metadata": {},
   "outputs": [
    {
     "data": {
      "text/plain": [
       "'train'"
      ]
     },
     "execution_count": 12,
     "metadata": {},
     "output_type": "execute_result"
    }
   ],
   "source": [
    "# Sets also use pop()\n",
    "# Removes and returns the last element in the set\n",
    "# For a set, a random item is popped\n",
    "set1.pop()"
   ]
  },
  {
   "cell_type": "code",
   "execution_count": 13,
   "metadata": {},
   "outputs": [
    {
     "data": {
      "text/plain": [
       "{'cucumber', 'monkey'}"
      ]
     },
     "execution_count": 13,
     "metadata": {},
     "output_type": "execute_result"
    }
   ],
   "source": [
    "# To remove a specific element in a set, use remove()\n",
    "set1.remove('alphabet')\n",
    "set1"
   ]
  },
  {
   "cell_type": "code",
   "execution_count": 14,
   "metadata": {},
   "outputs": [
    {
     "data": {
      "text/plain": [
       "{'car', 'train'}"
      ]
     },
     "execution_count": 14,
     "metadata": {},
     "output_type": "execute_result"
    }
   ],
   "source": [
    "# Compare two sets and return what items they have in common with intersection()\n",
    "set1 = {'alphabet', 'monkey', 'train', 'car', 'plane', 'waterbottle'}\n",
    "set2 = {'train', 'car', 'rowboat', 'watermelon', 'mouse'}\n",
    "set1.intersection(set2)"
   ]
  },
  {
   "cell_type": "code",
   "execution_count": 15,
   "metadata": {},
   "outputs": [
    {
     "data": {
      "text/plain": [
       "{'alphabet',\n",
       " 'car',\n",
       " 'monkey',\n",
       " 'mouse',\n",
       " 'plane',\n",
       " 'rowboat',\n",
       " 'train',\n",
       " 'waterbottle',\n",
       " 'watermelon'}"
      ]
     },
     "execution_count": 15,
     "metadata": {},
     "output_type": "execute_result"
    }
   ],
   "source": [
    "# Combine two sets with union()\n",
    "set1.union(set2)"
   ]
  },
  {
   "cell_type": "markdown",
   "metadata": {},
   "source": [
    "### Dictionary (dict)\n",
    "* Also called an associative array\n",
    "* Non-ordered sequence of key:value pairs\n",
    "* Indicated by curly braces { }\n",
    "* The keys of the pairs are typically strings, but can be any datatype including complex datatypes\n",
    "* Can use the keys as references the same way that indexes are used for lists\n",
    "    * square brackets around a key name [key_name]"
   ]
  },
  {
   "cell_type": "code",
   "execution_count": 29,
   "metadata": {},
   "outputs": [
    {
     "data": {
      "text/plain": [
       "1234"
      ]
     },
     "execution_count": 29,
     "metadata": {},
     "output_type": "execute_result"
    }
   ],
   "source": [
    "# Example\n",
    "{'key1':'value1', 'key2':1234}['key2']\n",
    "# ^dictionary                  ^accessing the value of 'key1'"
   ]
  },
  {
   "cell_type": "code",
   "execution_count": 16,
   "metadata": {},
   "outputs": [
    {
     "data": {
      "text/plain": [
       "dict_keys(['key1', 'key2'])"
      ]
     },
     "execution_count": 16,
     "metadata": {},
     "output_type": "execute_result"
    }
   ],
   "source": [
    "# All of the keys of a dictionary can be collected by calling the dictionary's keys() function, which returns a list\n",
    "{'key1':'value1', 'key2':1234}.keys()"
   ]
  },
  {
   "cell_type": "markdown",
   "metadata": {},
   "source": [
    "### Casting\n",
    "* Data types can be cast to another type provided that they are built on the same sub-class\n",
    "    * Numerical\n",
    "    * Collection"
   ]
  },
  {
   "cell_type": "code",
   "execution_count": 6,
   "metadata": {},
   "outputs": [
    {
     "data": {
      "text/plain": [
       "24.0"
      ]
     },
     "execution_count": 6,
     "metadata": {},
     "output_type": "execute_result"
    }
   ],
   "source": [
    "# Using float() adds a decimal point and a trailing 0\n",
    "float(24)"
   ]
  },
  {
   "cell_type": "code",
   "execution_count": 7,
   "metadata": {},
   "outputs": [
    {
     "data": {
      "text/plain": [
       "24"
      ]
     },
     "execution_count": 7,
     "metadata": {},
     "output_type": "execute_result"
    }
   ],
   "source": [
    "# Using int() floors the number\n",
    "int(24.42)"
   ]
  },
  {
   "cell_type": "code",
   "execution_count": 10,
   "metadata": {},
   "outputs": [
    {
     "name": "stdout",
     "output_type": "stream",
     "text": [
      "43456\n",
      "<class 'int'>\n",
      "345.467\n",
      "<class 'float'>\n"
     ]
    }
   ],
   "source": [
    "# If a string is only made of numerical characters, it can be cast to a number\n",
    "print(int('43456'))\n",
    "print(type(int('43456')))\n",
    "print(float('345.467'))\n",
    "print(type(float('345.467')))"
   ]
  },
  {
   "cell_type": "code",
   "execution_count": 34,
   "metadata": {},
   "outputs": [
    {
     "name": "stdout",
     "output_type": "stream",
     "text": [
      "45673\n",
      "<class 'str'>\n",
      "['this', 'is', 'a', 'list']\n",
      "<class 'str'>\n"
     ]
    }
   ],
   "source": [
    "# Most other data types can be cast to a string\n",
    "print(str(45673))\n",
    "print(type(str(45673)))\n",
    "print(str(['this', 'is', 'a', 'list']))\n",
    "print(type(str(['this', 'is', 'a', 'list'])))"
   ]
  },
  {
   "cell_type": "code",
   "execution_count": 66,
   "metadata": {},
   "outputs": [
    {
     "name": "stdout",
     "output_type": "stream",
     "text": [
      "<class 'set'>\n",
      "<class 'list'>\n"
     ]
    }
   ],
   "source": [
    "# Because they implement much of the same functionality, lists can be converted to sets and sets can be converted to lists\n",
    "list1 = ['alphabet', 'dog', 'queen', 'zebra']\n",
    "set1 = set(list1)\n",
    "print(type(set1))\n",
    "list2 = list(set1)\n",
    "print(type(list2))"
   ]
  },
  {
   "cell_type": "markdown",
   "metadata": {},
   "source": [
    "# Code Structures"
   ]
  },
  {
   "cell_type": "markdown",
   "metadata": {},
   "source": [
    "### Variables\n",
    "* Objects in a program that are used to reference a value\n",
    "* Created by specifying a name and using a single equal sign '='\n",
    "    * Which we call the 'assignment operator'\n",
    "* Objects always have their own functions that can be used with dot notation '.'\n",
    "    * hero.say()"
   ]
  },
  {
   "cell_type": "code",
   "execution_count": 10,
   "metadata": {},
   "outputs": [],
   "source": [
    "var1 = 1234\n",
    "var2 = 'string'\n",
    "var3 = ['this', 'is', 'a', 'list']\n",
    "var4 = False\n",
    "var5 = True"
   ]
  },
  {
   "cell_type": "markdown",
   "metadata": {},
   "source": [
    "#### Pass by value vs pass by reference\n",
    "* Variables can refer to the same information (same location in data storage)\n",
    "    * Not always the best practice, might need to have separate instances of the same data\n",
    "* 'Pass by reference' means that one variable refers same instance of data as another variable\n",
    "* 'Pass by value' means that one variable refers to a separate instance of the same data as another variable"
   ]
  },
  {
   "cell_type": "code",
   "execution_count": 27,
   "metadata": {},
   "outputs": [
    {
     "name": "stdout",
     "output_type": "stream",
     "text": [
      "var2 =  ['The', 'cow', 'in', 'the', 'meadow', 'goes', 'moo.']\n",
      "var3 =  ['The', 'cow', 'in', 'the', 'meadow', 'goes', 'moo.']\n",
      "\n",
      "var2 =  ['The', 'dog', 'in', 'the', 'yard', 'goes', 'bark']\n",
      "var3 =  ['The', 'cow', 'in', 'the', 'meadow', 'goes', 'moo.']\n",
      "\n",
      "var2 =  ['The', 'squid', 'in', 'the', 'yard', 'goes', 'splorsh']\n",
      "var1 =  ['The', 'squid', 'in', 'the', 'yard', 'goes', 'splorsh']\n"
     ]
    }
   ],
   "source": [
    "var1 = ['The', 'cow', 'in', 'the', 'meadow', 'goes', 'moo.']\n",
    "\n",
    "# Using the assignment operator points var2 to the same location in memory as var1\n",
    "var2 = var1\n",
    "\n",
    "# Most collection data types have a copy() method which duplicates the value of a variable\n",
    "# copy() points var3 to a separate location in memory\n",
    "var3 = var1.copy()\n",
    "print('var2 = ', var2)\n",
    "print('var3 = ', var3)\n",
    "print()\n",
    "\n",
    "# If the values within var1 are changed, the values within var2 are also changed\n",
    "var1[1] = 'dog'\n",
    "var1[4] = 'yard'\n",
    "var1[6] = 'bark'\n",
    "print('var2 = ', var2)\n",
    "\n",
    "# Because it was a duplicate, the values within var3 have not changed\n",
    "print('var3 = ', var3)\n",
    "print()\n",
    "\n",
    "# If var2 is changed, var1 is also changed because it is the same location in memory\n",
    "var2[1] = 'squid'\n",
    "var2[6] = 'splorsh'\n",
    "print('var2 = ', var2)\n",
    "print('var1 = ', var1)"
   ]
  },
  {
   "cell_type": "markdown",
   "metadata": {},
   "source": [
    "### If/Else statements\n",
    "* Used to compare variables or to check if something exists\n",
    "    * Always returns a True or False value\n",
    "* Once the comparison is evaluated, a condition can be executed based on the\n",
    "    * If True is returned, then the code beneath the if statement is executed\n",
    "    * If False is returned, the code underneath is passed over, and the program looks for the next executable statement\n",
    "* Can be nested\n",
    "    * If nested, the statements are evaluated in sequence\n",
    "* If mulitple conditions need to be evaluated in sequence, an 'elif' can be included before an 'else' statement is used\n",
    "* There isn't a limit to how many elif statements can be included before 'else'"
   ]
  },
  {
   "cell_type": "code",
   "execution_count": 12,
   "metadata": {},
   "outputs": [
    {
     "name": "stdout",
     "output_type": "stream",
     "text": [
      "var4 does not exist, but var5 does\n"
     ]
    }
   ],
   "source": [
    "if var4:\n",
    "    print('var4 exists')\n",
    "elif var5:\n",
    "    print('var4 does not exist, but var5 does')\n",
    "else:\n",
    "    print('Neither var4 nor var5 exist')"
   ]
  },
  {
   "cell_type": "markdown",
   "metadata": {},
   "source": [
    "* A single '=' represents assignment and a double equal sign '==' represents a comparison\n",
    "    * You will forget this, and it will cause much suffering\n",
    "        * It happens to everyone\n",
    "        * It's not always shown in error statements"
   ]
  },
  {
   "cell_type": "code",
   "execution_count": 28,
   "metadata": {},
   "outputs": [
    {
     "ename": "SyntaxError",
     "evalue": "invalid syntax (<ipython-input-28-0b5ae71bb2ff>, line 5)",
     "output_type": "error",
     "traceback": [
      "\u001b[1;36m  File \u001b[1;32m\"<ipython-input-28-0b5ae71bb2ff>\"\u001b[1;36m, line \u001b[1;32m5\u001b[0m\n\u001b[1;33m    if sample2 = 200:\u001b[0m\n\u001b[1;37m               ^\u001b[0m\n\u001b[1;31mSyntaxError\u001b[0m\u001b[1;31m:\u001b[0m invalid syntax\n"
     ]
    }
   ],
   "source": [
    "sample1 = 42\n",
    "sample2 = 100\n",
    "if sample1 == sample2:\n",
    "    print('The evaluation succeeded')\n",
    "if sample2 = 200:\n",
    "    print('The evaluation succeeded??')"
   ]
  },
  {
   "cell_type": "code",
   "execution_count": 63,
   "metadata": {},
   "outputs": [
    {
     "name": "stdout",
     "output_type": "stream",
     "text": [
      "It's greater than 10\n",
      "But, it's less than 20\n"
     ]
    }
   ],
   "source": [
    "# If statements can be nested\n",
    "var1 = 13\n",
    "if var1 > 10:\n",
    "    print(\"It's greater than 10\")\n",
    "    if var1 < 20:\n",
    "        # Should the first 'if' evaluate to False, then the nested if is skipped over\n",
    "        print(\"But, it's less than 20\")"
   ]
  },
  {
   "cell_type": "code",
   "execution_count": 64,
   "metadata": {},
   "outputs": [
    {
     "name": "stdout",
     "output_type": "stream",
     "text": [
      "There's a zebra in list1\n",
      "There's no crocodile in list1\n"
     ]
    }
   ],
   "source": [
    "# 'if' can even be used to check the contents of a sequence\n",
    "list1 = ['alphabet', 'dog', 'queen', 'zebra']\n",
    "if 'zebra' in list1:\n",
    "    print(\"There's a zebra in list1\")\n",
    "if 'crocodile' not in list1:\n",
    "    print(\"There's no crocodile in list1\")"
   ]
  },
  {
   "cell_type": "code",
   "execution_count": 30,
   "metadata": {},
   "outputs": [
    {
     "name": "stdout",
     "output_type": "stream",
     "text": [
      "The type of var1 is list\n"
     ]
    }
   ],
   "source": [
    "# Operations can be applied to a variable based on it's type\n",
    "var1 = ['var1', 'is', 'a', 'list']\n",
    "if type(var1) == list:\n",
    "    print('The type of var1 is list')\n",
    "elif type(var1) == str:\n",
    "    print('The type of var1 is string')"
   ]
  },
  {
   "cell_type": "markdown",
   "metadata": {},
   "source": [
    "### Loops\n",
    "* Loops are used to perform a task on something until a certain condition is met\n",
    "* 'for loops' are given a limited sequence or a specified number of iterations for execution\n",
    "    * A typical 'for loop' is given a number of iteration\n",
    "        * It counts the number of operations, starting at 0, repeating its operations until it has met the specified number of operations\n",
    "    * A 'foreach loop' is a special type of for loop \n",
    "        * You give a 'for each loop' a sequence, such as a list to iterate over, and it performs an operation for each (*wink*) element in the sequence\n",
    "* 'while loops' perform a task until a condition is met\n",
    "    * Can be used in place of a for loop if you're feeling fancy \n",
    "        * You must specify a variable to keep count of the iterations"
   ]
  },
  {
   "cell_type": "code",
   "execution_count": 19,
   "metadata": {},
   "outputs": [
    {
     "name": "stdout",
     "output_type": "stream",
     "text": [
      "0\n",
      "1\n",
      "2\n",
      "3\n",
      "4\n",
      "5\n"
     ]
    }
   ],
   "source": [
    "# Typical 'for loop' counts the number of operations given in range()\n",
    "for number in range(0, 6):\n",
    "    print(number)"
   ]
  },
  {
   "cell_type": "code",
   "execution_count": 20,
   "metadata": {},
   "outputs": [
    {
     "name": "stdout",
     "output_type": "stream",
     "text": [
      "parrot\n",
      "dog\n",
      "cat\n",
      "fish\n",
      "mosquito\n"
     ]
    }
   ],
   "source": [
    "# A 'foreach loop' iterates over the list 'animals' and prints each animal\n",
    "animals = ['parrot', 'dog', 'cat', 'fish', 'mosquito']\n",
    "for animal in animals:\n",
    "    print(animal)"
   ]
  },
  {
   "cell_type": "code",
   "execution_count": 23,
   "metadata": {},
   "outputs": [
    {
     "name": "stdout",
     "output_type": "stream",
     "text": [
      "1\n",
      "2\n",
      "3\n",
      "4\n",
      "5\n",
      "6\n"
     ]
    }
   ],
   "source": [
    "condition_holder = True\n",
    "counter = 0\n",
    "while condition_holder == True:\n",
    "    # counter holds the number of iterations in the loop, similar to how a 'for loop' counts\n",
    "    counter = counter + 1\n",
    "    if counter > 5:\n",
    "        # When counter becomes greater than 5, condition_holder will become False, and the while loop will break\n",
    "        condition_holder = False\n",
    "    print(counter)"
   ]
  },
  {
   "cell_type": "code",
   "execution_count": 50,
   "metadata": {},
   "outputs": [
    {
     "name": "stdout",
     "output_type": "stream",
     "text": [
      "Should the loop stop?:  no\n",
      "Should the loop stop?:  no\n",
      "Should the loop stop?:  NO\n",
      "Should the loop stop?:  YES\n",
      "Should the loop stop?:  Si\n",
      "Should the loop stop?:  yes\n"
     ]
    },
    {
     "name": "stdout",
     "output_type": "stream",
     "text": [
      "The loop has stopped.\n"
     ]
    }
   ],
   "source": [
    "user_input = '' # creating an empty string for the loop\n",
    "while user_input != 'yes':\n",
    "    # Will continue to ask for user input until the user types 'yes'\n",
    "    user_input = input('Should the loop stop?: ')\n",
    "print('The loop has stopped.')"
   ]
  },
  {
   "cell_type": "markdown",
   "metadata": {},
   "source": [
    "### Functions\n",
    "* Also called 'methods'\n",
    "* Packaged, defined operations that can be reused throughout a program\n",
    "* Very easy to define in python\n",
    "* Indicated with a single line containing 'def', a function name, and parentheses ( ) followed by a :\n",
    "    * This is called a 'declaration' or 'definition'"
   ]
  },
  {
   "cell_type": "code",
   "execution_count": 12,
   "metadata": {},
   "outputs": [],
   "source": [
    "def a_function():# <<< function declaration\n",
    "    # The process of the function goes under the function declaration with one tab over, similar to an 'if' statement\n",
    "    print('Hello, World!')"
   ]
  },
  {
   "cell_type": "markdown",
   "metadata": {},
   "source": [
    "* Arguments can also be specified within the declaration of a function by placing variable names inside the parentheses\n",
    "* In python, you don't need to specify the argument type, but you do in other programming languages"
   ]
  },
  {
   "cell_type": "code",
   "execution_count": 13,
   "metadata": {},
   "outputs": [],
   "source": [
    "def also_a_function(argument1, argument2): \n",
    "    if argument1 == argument2:\n",
    "        print('They are equivalent')\n",
    "    else:\n",
    "        print('They are not equivalent')"
   ]
  },
  {
   "cell_type": "markdown",
   "metadata": {},
   "source": [
    "* A function is used by 'calling' it\n",
    "* Type the name of a function followed by parentheses and include any arguments that it requires"
   ]
  },
  {
   "cell_type": "code",
   "execution_count": 15,
   "metadata": {},
   "outputs": [
    {
     "name": "stdout",
     "output_type": "stream",
     "text": [
      "Hello, World!\n"
     ]
    }
   ],
   "source": [
    "# a_function requires no arguments so we use it like this:\n",
    "a_function()"
   ]
  },
  {
   "cell_type": "code",
   "execution_count": 16,
   "metadata": {},
   "outputs": [
    {
     "name": "stdout",
     "output_type": "stream",
     "text": [
      "They are equivalent\n",
      "They are equivalent\n",
      "They are not equivalent\n"
     ]
    }
   ],
   "source": [
    "# also_a_function needs arguments to execute, so we feed it values\n",
    "also_a_function(2, 2)\n",
    "also_a_function('Charlie', 'Charlie')\n",
    "also_a_function('Charlie', 2)"
   ]
  },
  {
   "cell_type": "markdown",
   "metadata": {},
   "source": [
    "* A function can operate on a variable and produce a value unique to that function call\n",
    "* That value can be captured and saved by using the 'return' keyword\n",
    "* This is done by naming a variable and assigning to a function call"
   ]
  },
  {
   "cell_type": "code",
   "execution_count": 48,
   "metadata": {},
   "outputs": [
    {
     "name": "stdout",
     "output_type": "stream",
     "text": [
      "Say something->  this is a sentence that can be reversed\n"
     ]
    },
    {
     "name": "stdout",
     "output_type": "stream",
     "text": [
      "Reversed something->  desrever eb nac taht ecnetnes a si siht\n"
     ]
    }
   ],
   "source": [
    "def return_something():\n",
    "    user_input = input('Say something-> ')\n",
    "    something=user_input[len(user_input)::-1]\n",
    "    return something\n",
    "\n",
    "returned_value = return_something()\n",
    "\n",
    "print('Reversed something-> ', returned_value)"
   ]
  },
  {
   "cell_type": "markdown",
   "metadata": {},
   "source": [
    "* When defining a function, default values can be specified by using the assignment operator '=' when naming an argument\n",
    "* If an argument isn't specified by the caller, then the default value is used\n",
    "* This can make calling the function easier, or avoid NULL inputs"
   ]
  },
  {
   "cell_type": "code",
   "execution_count": 17,
   "metadata": {},
   "outputs": [],
   "source": [
    "def add_numbers(num1=1, num2=2):\n",
    "    return num1 + num2"
   ]
  },
  {
   "cell_type": "code",
   "execution_count": 18,
   "metadata": {},
   "outputs": [
    {
     "data": {
      "text/plain": [
       "3"
      ]
     },
     "execution_count": 18,
     "metadata": {},
     "output_type": "execute_result"
    }
   ],
   "source": [
    "# Calling the function without specifying arguments\n",
    "add_numbers()"
   ]
  },
  {
   "cell_type": "code",
   "execution_count": 19,
   "metadata": {},
   "outputs": [
    {
     "data": {
      "text/plain": [
       "167"
      ]
     },
     "execution_count": 19,
     "metadata": {},
     "output_type": "execute_result"
    }
   ],
   "source": [
    "# Calling the function with arguments\n",
    "add_numbers(45, 122)"
   ]
  },
  {
   "cell_type": "code",
   "execution_count": 20,
   "metadata": {},
   "outputs": [
    {
     "data": {
      "text/plain": [
       "24"
      ]
     },
     "execution_count": 20,
     "metadata": {},
     "output_type": "execute_result"
    }
   ],
   "source": [
    "# Calling the function with 1 argument\n",
    "# One argument is specified, but two are expected, so the function takes the given value as num1\n",
    "add_numbers(22) # 22+2=24"
   ]
  },
  {
   "cell_type": "code",
   "execution_count": 21,
   "metadata": {},
   "outputs": [
    {
     "data": {
      "text/plain": [
       "23"
      ]
     },
     "execution_count": 21,
     "metadata": {},
     "output_type": "execute_result"
    }
   ],
   "source": [
    "# Can even specify which argument you are providing a value for by using the assignment operator '=' in the call\n",
    "add_numbers(num2=22) # 22+1=23"
   ]
  },
  {
   "cell_type": "markdown",
   "metadata": {},
   "source": [
    "# Important note about scope\n",
    "* There are two contexts for variables\n",
    "    * Global\n",
    "        * Exist at the highest level of computation\n",
    "        * Accessible from everywhere\n",
    "    * Local\n",
    "        * Only exists within a separate, contained process, such as a function\n",
    "        * Can only be accessed from within that process"
   ]
  },
  {
   "cell_type": "code",
   "execution_count": 7,
   "metadata": {},
   "outputs": [
    {
     "name": "stdout",
     "output_type": "stream",
     "text": [
      "['the', 'orange', 'cat', 'ate', 'a', 'fish']\n",
      "['the', 'orange', 'cat', 'ate', 'a', 'fish']\n",
      "['the', 'yellow', 'cat', 'ate', 'a', 'fish']\n",
      "['the', 'yellow', 'cat', 'ate', 'a', 'fish']\n"
     ]
    }
   ],
   "source": [
    "lester = ['the', 'brown', 'cat', 'ate', 'a', 'fish']\n",
    "\n",
    "def change():\n",
    "    lester[1] = 'orange'\n",
    "    print(lester)\n",
    "    \n",
    "change()\n",
    "print(lester)\n",
    "\n",
    "def change2(arg):\n",
    "    arg[1] = 'yellow'\n",
    "    print(arg)\n",
    "\n",
    "change2(lester)\n",
    "print(lester)\n"
   ]
  },
  {
   "cell_type": "code",
   "execution_count": 18,
   "metadata": {},
   "outputs": [
    {
     "name": "stdout",
     "output_type": "stream",
     "text": [
      "37\n",
      "37\n"
     ]
    }
   ],
   "source": [
    "a = 24\n",
    "b = 13\n",
    "\n",
    "try:\n",
    "    def add():\n",
    "        a = a+b\n",
    "        print(a)\n",
    "    add()\n",
    "except Exception as ex:\n",
    "    print(ex)\n",
    "\n",
    "def add2(arg):\n",
    "    arg = a + b\n",
    "    print(arg)\n",
    "    \n",
    "add2(a)\n",
    "\n",
    "def add3():\n",
    "    print(a+b)\n",
    "    \n",
    "add3()"
   ]
  },
  {
   "cell_type": "markdown",
   "metadata": {},
   "source": [
    "### Exceptions\n",
    "* Special cases for output that can explain what happened if something goes wrong\n",
    "* Occur when the computer receives input or instructions that it doesn't understand or can't process\n",
    "* If an Exception is not handled, it will crash a program to avoid causing more problems"
   ]
  },
  {
   "cell_type": "code",
   "execution_count": 27,
   "metadata": {},
   "outputs": [
    {
     "ename": "ZeroDivisionError",
     "evalue": "division by zero",
     "output_type": "error",
     "traceback": [
      "\u001b[1;31m---------------------------------------------------------------------------\u001b[0m",
      "\u001b[1;31mZeroDivisionError\u001b[0m                         Traceback (most recent call last)",
      "\u001b[1;32m<ipython-input-27-88d66f36ca11>\u001b[0m in \u001b[0;36m<module>\u001b[1;34m\u001b[0m\n\u001b[1;32m----> 1\u001b[1;33m \u001b[0mvar1\u001b[0m \u001b[1;33m=\u001b[0m \u001b[1;36m10\u001b[0m\u001b[1;33m/\u001b[0m\u001b[1;36m0\u001b[0m\u001b[1;33m\u001b[0m\u001b[1;33m\u001b[0m\u001b[0m\n\u001b[0m",
      "\u001b[1;31mZeroDivisionError\u001b[0m: division by zero"
     ]
    }
   ],
   "source": [
    "# Division by zero is a common error in mathematical processes\n",
    "var1 = 10/0\n",
    "# Output is an example of an exception"
   ]
  },
  {
   "cell_type": "markdown",
   "metadata": {},
   "source": [
    "### Try/Except clauses\n",
    "* These are containers for code blocks that prevent a program from crashing if something goes wrong\n",
    "* The 'try' statement opens a code block for execution and notifies the program that if something does go wrong, the 'except' statement should execute\n",
    "* This can make debugging easier\n",
    "* Allows for easy handling of Exceptions\n",
    "* Can also allow for edge cases in inputs to be ignored"
   ]
  },
  {
   "cell_type": "code",
   "execution_count": 36,
   "metadata": {},
   "outputs": [
    {
     "name": "stdout",
     "output_type": "stream",
     "text": [
      "Something wrong happened, but it was handled so that the program didn't crash.\n"
     ]
    }
   ],
   "source": [
    "try:\n",
    "    # If something happens in this code block, then the code within the 'except' statement is triggered\n",
    "    value = 10/0\n",
    "    print(value)\n",
    "except Exception as ex:\n",
    "    print('Something wrong happened, but it was handled so that the program didn\\'t crash.')"
   ]
  },
  {
   "cell_type": "markdown",
   "metadata": {},
   "source": [
    "* The 'finally' clause allows code to be executed regardless of the result of the try/catch block"
   ]
  },
  {
   "cell_type": "code",
   "execution_count": 37,
   "metadata": {},
   "outputs": [
    {
     "name": "stdout",
     "output_type": "stream",
     "text": [
      "Something went wrong\n",
      "The code block is done\n"
     ]
    }
   ],
   "source": [
    "try:\n",
    "    value = 10/0\n",
    "    print(value)\n",
    "except Exception:\n",
    "    print('Something went wrong')\n",
    "finally:\n",
    "    print('The code block is done')"
   ]
  },
  {
   "cell_type": "code",
   "execution_count": 38,
   "metadata": {},
   "outputs": [
    {
     "name": "stdout",
     "output_type": "stream",
     "text": [
      "10\n",
      "The code block is done\n"
     ]
    }
   ],
   "source": [
    "try:\n",
    "    value = 10\n",
    "    print(value)\n",
    "except Exception:\n",
    "    print('Something went wrong')\n",
    "finally:\n",
    "    print('The code block is done')"
   ]
  },
  {
   "cell_type": "markdown",
   "metadata": {},
   "source": [
    "# Libraries and classes"
   ]
  },
  {
   "cell_type": "markdown",
   "metadata": {},
   "source": [
    "### Libraries\n",
    "\n",
    "* Libraries are typically open-source containers that hold prebuilt functionalities\n",
    "    * art\n",
    "        * Create text art on the command line\n",
    "    * Wikipedia\n",
    "        * Interactions with Wikipedia\n",
    "    * random\n",
    "        * Lots of functionality to create and use random numbers\n",
    "    * openpyxl\n",
    "        * Interacting with excel files\n",
    "* You can access that functionality by using the 'import' statement\n",
    "    * This can go anywhere in your script as long as it is above the block where it is used\n",
    "    "
   ]
  },
  {
   "cell_type": "code",
   "execution_count": 8,
   "metadata": {},
   "outputs": [
    {
     "data": {
      "text/plain": [
       "7"
      ]
     },
     "execution_count": 8,
     "metadata": {},
     "output_type": "execute_result"
    }
   ],
   "source": [
    "import random\n",
    "\n",
    "# The randint() function from random outputs a random number between lower_bound and upper_bound\n",
    "# random.randint(lower_bound, upper_bound)\n",
    "random_int = random.randint(0, 10)\n",
    "random_int"
   ]
  },
  {
   "cell_type": "code",
   "execution_count": 11,
   "metadata": {},
   "outputs": [
    {
     "data": {
      "text/plain": [
       "'pot pie'"
      ]
     },
     "execution_count": 11,
     "metadata": {},
     "output_type": "execute_result"
    }
   ],
   "source": [
    "# The choice() function pulls a random item from a given sequence\n",
    "\n",
    "food_choices = ['pizza', 'chilli', 'pot pie', 'haggis']\n",
    "\n",
    "random_food = random.choice(food_choices)\n",
    "random_food"
   ]
  },
  {
   "cell_type": "markdown",
   "metadata": {},
   "source": [
    "### Note about importing\n",
    "* Importing a library means pulling all of the associated code into your running environment\n",
    "* This can put a heavy load on memory and lead to optimization issues\n",
    "* Instead of pulling the whole library, you can pull only the module that you need from the library using the 'from' statement\n",
    "    * This creates cleaner code and a more optimized environment"
   ]
  },
  {
   "cell_type": "code",
   "execution_count": 13,
   "metadata": {},
   "outputs": [
    {
     "data": {
      "text/plain": [
       "15"
      ]
     },
     "execution_count": 13,
     "metadata": {},
     "output_type": "execute_result"
    }
   ],
   "source": [
    "from random import randint\n",
    "\n",
    "random_int = randint(2, 40)\n",
    "\n",
    "random_int"
   ]
  },
  {
   "cell_type": "markdown",
   "metadata": {},
   "source": [
    "### How to get these libraries\n",
    "\n",
    "* Python is installed with many native libraries, but where do all the cool, new ones come from?\n",
    "* In whatever environment you are using, you can call pip to download a new library\n",
    "    * PIP (package installer for python)\n",
    "\n",
    "    ```python   \n",
    "    pip install jupyterlab\n",
    "    pip install wikipedia\n",
    "    ```"
   ]
  },
  {
   "cell_type": "markdown",
   "metadata": {},
   "source": [
    "### Classes\n",
    "\n",
    "* In programming, we sometimes want to create a data structure\n",
    "    * Data structures are used to hold information in a specified manner\n",
    "        * Lists, sets, dictionaries\n",
    "    * This allows us to have customized values, but if our structures are always customized, how will other functions know how to interact with them?\n",
    "* Classes are a blueprint for a data structure\n",
    "    * Allow us to recreate a structure and specify how a structure should be handled by other processes\n",
    "* When you instantiate a class, it is known as an 'object'\n",
    "    "
   ]
  },
  {
   "cell_type": "markdown",
   "metadata": {},
   "source": [
    "### Creating classes\n",
    "* Creating your own classes can be an easy way to build custom objects\n",
    "* Creating a class allows us to make a data structure that will behave in custom ways\n",
    "    * Can expand on existing data structures\n",
    "        "
   ]
  },
  {
   "cell_type": "code",
   "execution_count": 14,
   "metadata": {},
   "outputs": [],
   "source": [
    "class Doughnut():\n",
    "    \n",
    "    # __init__ defines the component values for an instance of a class object\n",
    "    def __init__(self, flavor, sprinkles=None, frosting=None):\n",
    "        self.flavor = flavor\n",
    "        self.sprinkles = sprinkles\n",
    "        self.frosting = frosting\n",
    "\n",
    "    # 'self' is a required argument for class functions\n",
    "    def print_flavor(self):\n",
    "        print(self.flavor)\n",
    "        "
   ]
  },
  {
   "cell_type": "code",
   "execution_count": null,
   "metadata": {},
   "outputs": [],
   "source": [
    "dn1 = Doughnut(flavor='cake')\n",
    "dn2 = Doughnut(flavor='glazed', frosting='sugar_glaze')\n",
    "dn3 = Doughnut(flavor='chocolate', sprinkles='chocolate_sprinkles', frosting='chocolate_glaze')\n"
   ]
  }
 ],
 "metadata": {
  "kernelspec": {
   "display_name": "Python 3",
   "language": "python",
   "name": "python3"
  },
  "language_info": {
   "codemirror_mode": {
    "name": "ipython",
    "version": 3
   },
   "file_extension": ".py",
   "mimetype": "text/x-python",
   "name": "python",
   "nbconvert_exporter": "python",
   "pygments_lexer": "ipython3",
   "version": "3.7.7"
  }
 },
 "nbformat": 4,
 "nbformat_minor": 4
}
